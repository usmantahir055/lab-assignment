{
 "cells": [
  {
   "cell_type": "markdown",
   "id": "3a98efe8-469e-4d88-bbf9-a095d5662cd1",
   "metadata": {},
   "source": [
    "# m.usman tahir\n",
    "# sp25-bbd-100"
   ]
  },
  {
   "cell_type": "code",
   "execution_count": 1,
   "id": "b56bb4af-6793-4368-a6e8-112d0335372f",
   "metadata": {},
   "outputs": [
    {
     "name": "stdin",
     "output_type": "stream",
     "text": [
      "Enter the Number 8\n"
     ]
    },
    {
     "name": "stdout",
     "output_type": "stream",
     "text": [
      "The number is Positive\n"
     ]
    }
   ],
   "source": [
    "#question no 1\n",
    "number = int(input(\"Enter the Number\"))\n",
    "number = 11\n",
    "if number >= 11:\n",
    "    print(\"The number is Positive\")\n",
    "elif number <= 11:\n",
    "    print(\"The number is Zero\")\n",
    "else:\n",
    "    print(\"The number is Negative\")"
   ]
  },
  {
   "cell_type": "code",
   "execution_count": 2,
   "id": "655c3f9e-b552-474d-a16d-1d0c007edc1f",
   "metadata": {},
   "outputs": [
    {
     "name": "stdin",
     "output_type": "stream",
     "text": [
      "Enter the Year 2024\n"
     ]
    },
    {
     "name": "stdout",
     "output_type": "stream",
     "text": [
      "2025 is the Leap Year\n"
     ]
    }
   ],
   "source": [
    "#question no 2\n",
    "year = int(input(\"Enter the Year\"))\n",
    "year = 2025\n",
    "if year == 2025:\n",
    "    print(\"2025 is the Leap Year\")\n",
    "else:\n",
    "    print(\"2025 is not the Leap Year\")"
   ]
  },
  {
   "cell_type": "code",
   "execution_count": 3,
   "id": "dd57bf88-4e8f-4f5c-a793-f5000e312461",
   "metadata": {},
   "outputs": [
    {
     "name": "stdin",
     "output_type": "stream",
     "text": [
      "First Number:  1\n",
      "Second Number:  1\n",
      "Operator (+,-,*,/)  +\n"
     ]
    },
    {
     "name": "stdout",
     "output_type": "stream",
     "text": [
      "2\n"
     ]
    }
   ],
   "source": [
    "#question no 3\n",
    "a = int(input(\"First Number: \"))\n",
    "b = int(input(\"Second Number: \"))\n",
    "op = input(\"Operator (+,-,*,/) \")\n",
    "if op == '+':\n",
    "    print(a + b)\n",
    "elif op == '-':\n",
    "    print(a - b)\n",
    "elif op == '*':\n",
    "    print(a * b)\n",
    "else:\n",
    "    print(a / b)"
   ]
  },
  {
   "cell_type": "code",
   "execution_count": 4,
   "id": "e852a72d-1cb1-47be-a8a6-982c394d85f0",
   "metadata": {},
   "outputs": [
    {
     "name": "stdin",
     "output_type": "stream",
     "text": [
      "Enter your Age 20\n",
      "Enter your income 20000\n"
     ]
    },
    {
     "name": "stdout",
     "output_type": "stream",
     "text": [
      "Not eligible.\n"
     ]
    }
   ],
   "source": [
    "#question no 4\n",
    "age=int(input(\"Enter your Age\"))\n",
    "income=int(input(\"Enter your income\"))\n",
    "if age >= 21 and income > 25000:\n",
    "  print(\"Eligible for membership.\")\n",
    "else:\n",
    "  print(\"Not eligible.\")"
   ]
  },
  {
   "cell_type": "code",
   "execution_count": 5,
   "id": "8ade4ca8-5648-42d8-ae39-b8a2e254d61b",
   "metadata": {},
   "outputs": [
    {
     "name": "stdin",
     "output_type": "stream",
     "text": [
      "Enter a number:  3\n"
     ]
    },
    {
     "name": "stdout",
     "output_type": "stream",
     "text": [
      "Fizz.\n"
     ]
    }
   ],
   "source": [
    "#question no 5\n",
    "num = int(input(\"Enter a number: \"))\n",
    "if num % 3 == 0 and num % 5 == 0:\n",
    "    print(\"FizzBuzz.\")\n",
    "elif num % 3 == 0:\n",
    "    print(\"Fizz.\")\n",
    "elif num % 5 == 0:\n",
    "    print(\"Buzz.\")\n",
    "else:\n",
    "    print(num)"
   ]
  },
  {
   "cell_type": "code",
   "execution_count": 6,
   "id": "5c2d19ab-50c7-4cb6-842f-e4381bdee160",
   "metadata": {},
   "outputs": [
    {
     "name": "stdin",
     "output_type": "stream",
     "text": [
      "Enter a character:  2\n"
     ]
    },
    {
     "name": "stdout",
     "output_type": "stream",
     "text": [
      "Digit\n"
     ]
    }
   ],
   "source": [
    "#question no 6\n",
    "char = input(\"Enter a character: \").lower()\n",
    "if len(char) != 1:\n",
    "    print(\"Enter only one character.\")\n",
    "else:\n",
    "    if char.isalpha():\n",
    "        if char in 'aeiou':\n",
    "            print(\"Vowel\")\n",
    "        else:\n",
    "            print(\"Consonant\")\n",
    "    elif char.isdigit():\n",
    "        print(\"Digit\")\n",
    "    else:\n",
    "        print(\"Special character\")"
   ]
  },
  {
   "cell_type": "code",
   "execution_count": 7,
   "id": "3dbd8519-3046-473d-bdb2-cb3a2d8abc91",
   "metadata": {},
   "outputs": [
    {
     "name": "stdin",
     "output_type": "stream",
     "text": [
      "Enter the current day:  monday\n"
     ]
    },
    {
     "name": "stdout",
     "output_type": "stream",
     "text": [
      "Time to work!\n"
     ]
    }
   ],
   "source": [
    "#question no 7\n",
    "day = input(\"Enter the current day: \").strip().lower()\n",
    "if day == \"saturday\" or day == \"sunday\":\n",
    "    print(\"Enjoy your weekend!\")\n",
    "else:\n",
    "    print(\"Time to work!\")"
   ]
  },
  {
   "cell_type": "code",
   "execution_count": 8,
   "id": "0aa0c1b1-6726-4c85-a24b-8c62c4edfdae",
   "metadata": {},
   "outputs": [
    {
     "name": "stdin",
     "output_type": "stream",
     "text": [
      "Years of service:  6\n",
      "Current salary:  0.10\n"
     ]
    },
    {
     "name": "stdout",
     "output_type": "stream",
     "text": [
      "Bonus amount: 0.010000000000000002\n"
     ]
    }
   ],
   "source": [
    "#question no 8\n",
    "years = int(input(\"Years of service: \"))\n",
    "salary = float(input(\"Current salary: \"))\n",
    "if years >= 10:\n",
    "    bonus = salary * 0.20\n",
    "elif years >= 5:\n",
    "    bonus = salary * 0.10\n",
    "else:\n",
    "    bonus = salary * 0.05\n",
    "\n",
    "print(\"Bonus amount:\", bonus)"
   ]
  },
  {
   "cell_type": "code",
   "execution_count": 9,
   "id": "c03154f8-3e32-4ead-b684-a114e4c04cb1",
   "metadata": {},
   "outputs": [
    {
     "name": "stdin",
     "output_type": "stream",
     "text": [
      "Enter a number:  2\n"
     ]
    },
    {
     "name": "stdout",
     "output_type": "stream",
     "text": [
      "Positive\n",
      "Even\n"
     ]
    }
   ],
   "source": [
    "#question no 9\n",
    "num = int(input(\"Enter a number: \"))\n",
    "if num > 0:\n",
    "    print(\"Positive\")\n",
    "    if num % 2 == 0:\n",
    "        print(\"Even\")\n",
    "    else:\n",
    "        print(\"Odd\")\n",
    "elif num < 0:\n",
    "    print(\"Negative\")\n",
    "else:\n",
    "    print(\"Zero\")\n",
    "     "
   ]
  },
  {
   "cell_type": "code",
   "execution_count": null,
   "id": "db8918f3-7861-400e-b7df-1bcd7d388c8f",
   "metadata": {},
   "outputs": [],
   "source": []
  }
 ],
 "metadata": {
  "kernelspec": {
   "display_name": "Python 3 (ipykernel)",
   "language": "python",
   "name": "python3"
  },
  "language_info": {
   "codemirror_mode": {
    "name": "ipython",
    "version": 3
   },
   "file_extension": ".py",
   "mimetype": "text/x-python",
   "name": "python",
   "nbconvert_exporter": "python",
   "pygments_lexer": "ipython3",
   "version": "3.12.7"
  }
 },
 "nbformat": 4,
 "nbformat_minor": 5
}
